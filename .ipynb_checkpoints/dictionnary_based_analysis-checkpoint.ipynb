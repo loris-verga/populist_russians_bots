{
 "cells": [
  {
   "metadata": {},
   "cell_type": "markdown",
   "source": "Importation of packages",
   "id": "4b8e8d93ae471610"
  },
  {
   "metadata": {
    "ExecuteTime": {
     "end_time": "2024-08-11T14:43:53.581603Z",
     "start_time": "2024-08-11T14:43:53.280141Z"
    }
   },
   "cell_type": "code",
   "source": [
    "import filter_data  # class containing filter methods \n",
    "import date_handling  # class containing date related methods\n",
    "import tweet_analysis  # class containing the method for the content analysis of the tweets. \n",
    "import constants  # import global constants\n",
    "import plot # plotting functions \n",
    "import dictionnaries # defined dictionaries\n",
    "import numpy as np # numpy for array handling\n",
    "import percentage # compute percentage\n",
    "\n",
    "# Reload each module\n",
    "import importlib\n",
    "\n",
    "importlib.reload(filter_data)\n",
    "importlib.reload(date_handling)\n",
    "importlib.reload(tweet_analysis)\n",
    "importlib.reload(constants)\n",
    "importlib.reload(plot)\n",
    "importlib.reload(dictionnaries)\n",
    "\n"
   ],
   "id": "80f5fcd342a07907",
   "execution_count": 1,
   "outputs": []
  },
  {
   "metadata": {},
   "cell_type": "markdown",
   "source": "Definition of constants \n",
   "id": "ddfc0e88536dab11"
  },
  {
   "metadata": {
    "ExecuteTime": {
     "end_time": "2024-08-11T14:32:16.697768Z",
     "start_time": "2024-08-11T14:32:16.694635Z"
    }
   },
   "cell_type": "code",
   "source": [
    "START_DATE = np.datetime64('2014-07-01') # Date of the first published tweet in English \n",
    "END_DATE = np.datetime64('2018-06-01') # Date of the last published tweet in English \n"
   ],
   "id": "ec0614fa7500e344",
   "execution_count": 2,
   "outputs": []
  },
  {
   "metadata": {},
   "cell_type": "markdown",
   "source": [
    "Filter the data : \n",
    "- Keep only tweets written in english \n",
    "- Remove links in the tweets\n",
    "- Remove columns that we do not need \n",
    "- Reformat dates"
   ],
   "id": "c6c43b8cc99412e2"
  },
  {
   "metadata": {},
   "cell_type": "code",
   "source": [
    "# Warning: This cell needs to be run only once. \n",
    "\n",
    "# Define the set of column indices to keep\n",
    "COLUMN_INDICES = {1, 2, 5, 13}\n",
    "\n",
    "# Call the function with the input file name and column indices\n",
    "for i in range(1, 14): \n",
    "    input_path= constants.RAW_DATA_PATH.format(i)\n",
    "    output_path= constants.PRE_PROCESSED_DATA_PATH.format(i)\n",
    "    filter_data.filter_csv(input_path, output_path, COLUMN_INDICES, 4, \"English\") # Keep only tweets in english \n",
    "    filter_data.extract_date_columns(output_path, output_path)\n",
    "    filter_data.remove_links(output_path, output_path)\n",
    "    filter_data.convert_to_lowercase(output_path, output_path)"
   ],
   "id": "2135a4bb255d1789",
   "execution_count": null,
   "outputs": []
  },
  {
   "metadata": {},
   "cell_type": "markdown",
   "source": "",
   "id": "5c572ba69b498106"
  },
  {
   "metadata": {},
   "cell_type": "markdown",
   "source": "Get the array of dates that span the period of the tweets",
   "id": "16eadfdf08b04ed"
  },
  {
   "metadata": {
    "ExecuteTime": {
     "end_time": "2024-08-11T14:32:19.821784Z",
     "start_time": "2024-08-11T14:32:19.818355Z"
    }
   },
   "cell_type": "code",
   "source": "date_array = date_handling.get_date_array(START_DATE, END_DATE)",
   "id": "bda6f449fe9ceb80",
   "execution_count": 3,
   "outputs": []
  },
  {
   "metadata": {},
   "cell_type": "markdown",
   "source": "(Optional) Plot the number of tweets over the period",
   "id": "9918cccda7d3da2b"
  },
  {
   "metadata": {
    "ExecuteTime": {
     "end_time": "2024-08-11T14:35:33.887656Z",
     "start_time": "2024-08-11T14:35:20.263360Z"
    }
   },
   "cell_type": "code",
   "source": [
    "nb_of_tweets_per_day = tweet_analysis.get_nb_of_tweets_per_day(date_array)\n",
    "print(nb_of_tweets_per_day.sum(axis=0))\n"
   ],
   "id": "78bc322e6dcc34ed",
   "execution_count": 6,
   "outputs": []
  },
  {
   "metadata": {
    "ExecuteTime": {
     "end_time": "2024-08-11T14:41:28.060216Z",
     "start_time": "2024-08-11T14:41:28.055651Z"
    }
   },
   "cell_type": "code",
   "source": [
    "%matplotlib qt\n",
    "plot.plot_result(date_array, nb_of_tweets_per_day, START_DATE, END_DATE)"
   ],
   "id": "ac623aa178ff3c52",
   "execution_count": 15,
   "outputs": []
  },
  {
   "metadata": {},
   "cell_type": "markdown",
   "source": "Dictionary analysis\n",
   "id": "2cfe5b1832f1a52"
  },
  {
   "metadata": {},
   "cell_type": "code",
   "source": "nb_of_tweets_filtered_with_dic = tweet_analysis.dataset_analysis(dictionnaries.dic_rooduijn_pauwels, date_array)\n",
   "id": "b1057797a702a86f",
   "execution_count": null,
   "outputs": []
  },
  {
   "metadata": {},
   "cell_type": "markdown",
   "source": "Plot result of dictionary analysis",
   "id": "e7a3d4b79e3b7f8b"
  },
  {
   "metadata": {},
   "cell_type": "code",
   "source": "plot.plot_result(date_array,nb_of_tweets_filtered_with_dic, START_DATE, END_DATE)",
   "id": "69c7fe4ead9560d6",
   "execution_count": null,
   "outputs": []
  },
  {
   "metadata": {},
   "cell_type": "markdown",
   "source": "Get percentage of tweets with at least one words over the total nb of tweets",
   "id": "1a3609c5838499e0"
  },
  {
   "metadata": {
    "ExecuteTime": {
     "end_time": "2024-08-10T14:00:31.734571Z",
     "start_time": "2024-08-10T14:00:31.605470Z"
    }
   },
   "cell_type": "code",
   "source": [
    "percentage = percentage.percentage_of_tweets(nb_of_tweets_filtered_with_dic, nb_of_tweets_per_day)\n",
    "plot.plot_result(date_array, percentage, START_DATE, END_DATE)"
   ],
   "id": "ad4eaaf7e0ca8b89",
   "execution_count": 51,
   "outputs": []
  }
 ],
 "metadata": {
  "kernelspec": {
   "display_name": "Python 3",
   "language": "python",
   "name": "python3"
  },
  "language_info": {
   "codemirror_mode": {
    "name": "ipython",
    "version": 2
   },
   "file_extension": ".py",
   "mimetype": "text/x-python",
   "name": "python",
   "nbconvert_exporter": "python",
   "pygments_lexer": "ipython2",
   "version": "2.7.6"
  }
 },
 "nbformat": 4,
 "nbformat_minor": 5
}
