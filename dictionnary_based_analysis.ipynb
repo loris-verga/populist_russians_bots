{
 "cells": [
  {
   "metadata": {},
   "cell_type": "markdown",
   "source": "Importation of packages",
   "id": "4b8e8d93ae471610"
  },
  {
   "metadata": {
    "ExecuteTime": {
     "end_time": "2024-08-08T08:33:40.505342Z",
     "start_time": "2024-08-08T08:33:40.218249Z"
    }
   },
   "cell_type": "code",
   "source": [
    "import gc\n",
    "import matplotlib.pyplot as plt \n",
    "import numpy as np\n",
    "import csv"
   ],
   "id": "80f5fcd342a07907",
   "outputs": [],
   "execution_count": 1
  },
  {
   "metadata": {},
   "cell_type": "markdown",
   "source": "Definition of time constants \n",
   "id": "ddfc0e88536dab11"
  },
  {
   "metadata": {
    "ExecuteTime": {
     "end_time": "2024-08-08T08:33:53.125Z",
     "start_time": "2024-08-08T08:33:53.121754Z"
    }
   },
   "cell_type": "code",
   "source": [
    "START_DATE = np.datetime64('2014-07-01')\n",
    "END_DATE = np.datetime64('2018-06-01')\n"
   ],
   "id": "ec0614fa7500e344",
   "outputs": [],
   "execution_count": 4
  },
  {
   "metadata": {},
   "cell_type": "markdown",
   "source": [
    "Filter the data : \n",
    "- Keep only tweets written in english \n",
    "- Remove links in the tweets\n",
    "- Remove columns that we do not need \n",
    "- Reformat dates"
   ],
   "id": "c6c43b8cc99412e2"
  },
  {
   "metadata": {
    "ExecuteTime": {
     "end_time": "2024-08-08T08:34:40.307610Z",
     "start_time": "2024-08-08T08:33:56.627260Z"
    }
   },
   "cell_type": "code",
   "source": [
    "from filter_data import * \n",
    "\n",
    "#Call the function with the input file name and column indices\n",
    "for i in range(1, 14): \n",
    "    input_path= \"./data/original_data/IRAhandle_tweets_{}.csv\".format(i)\n",
    "    output_path= \"./data/filtered_data/IRAhandle_tweets_{}.csv\".format(i)\n",
    "    filter_csv(input_path, output_path, column_indices, 4, \"English\")\n",
    "    extract_date_columns(output_path, output_path)\n",
    "    remove_links(output_path, output_path)\n",
    "    convert_to_lowercase(output_path, output_path)"
   ],
   "id": "2135a4bb255d1789",
   "outputs": [],
   "execution_count": 5
  },
  {
   "metadata": {},
   "cell_type": "markdown",
   "source": "",
   "id": "5c572ba69b498106"
  },
  {
   "metadata": {},
   "cell_type": "markdown",
   "source": "Define the date array ",
   "id": "5c6b487c045a5144"
  },
  {
   "metadata": {
    "ExecuteTime": {
     "end_time": "2024-08-08T08:34:51.482694Z",
     "start_time": "2024-08-08T08:34:51.477817Z"
    }
   },
   "cell_type": "code",
   "source": [
    "def get_date_array(): \n",
    "    # Calculate the number of days between start and end dates\n",
    "    num_days = (END_DATE - START_DATE).astype(int) + 1\n",
    "    \n",
    "    # Create an array of timedelta objects representing each day\n",
    "    timedelta_array = np.arange(num_days)\n",
    "    \n",
    "    # Convert timedelta array to datetime array by adding it to start date\n",
    "    date_array = START_DATE + timedelta_array * np.timedelta64(1, 'D')\n",
    "    \n",
    "    return date_array"
   ],
   "id": "afa47f9dfd691d08",
   "outputs": [],
   "execution_count": 6
  },
  {
   "metadata": {},
   "cell_type": "markdown",
   "source": "We can now plot the number of tweets accross time of our dataset",
   "id": "dc7cd0a923e1143e"
  },
  {
   "metadata": {
    "ExecuteTime": {
     "end_time": "2024-08-08T08:35:04.269855Z",
     "start_time": "2024-08-08T08:35:04.254281Z"
    }
   },
   "cell_type": "code",
   "source": [
    "import datetime\n",
    "\n",
    "\n",
    "\n",
    "# Number of tweets per day\n",
    "def get_number_of_tweet_each_day(input_file, date_array): \n",
    "\n",
    "\n",
    "    number_of_tweets_per_day = np.zeros(date_array.shape)\n",
    "    \n",
    "    \n",
    "    # Open the input file for reading\n",
    "    with open(input_file, 'r', newline='', encoding='utf-8') as infile:\n",
    "        reader = csv.reader(infile)\n",
    "        \n",
    "        # Read the header\n",
    "        header = next(reader)\n",
    "        \n",
    "        # Process each row in the input file\n",
    "        for row in reader:\n",
    "            year = int(row[3])\n",
    "            month = int(row[4])\n",
    "            day = int(row[5])\n",
    "            date = datetime.date(year, month, day)\n",
    "            numpy_date = np.datetime64(date)\n",
    "\n",
    "\n",
    "            # find the index of the date in the date_range\n",
    "            index = np.where(date_array == numpy_date)\n",
    "\n",
    "            # Increment the number of tweets for that day\n",
    "            number_of_tweets_per_day[index] += 1  \n",
    "        \n",
    "        return number_of_tweets_per_day\n",
    "           \n"
   ],
   "id": "83ecdb6948739df2",
   "outputs": [
    {
     "name": "stdout",
     "output_type": "stream",
     "text": [
      "(1432,)\n",
      "(array([], dtype=int64),)\n"
     ]
    },
    {
     "ename": "NameError",
     "evalue": "name 'number_of_tweets_per_day' is not defined",
     "output_type": "error",
     "traceback": [
      "\u001B[0;31m---------------------------------------------------------------------------\u001B[0m",
      "\u001B[0;31mNameError\u001B[0m                                 Traceback (most recent call last)",
      "Cell \u001B[0;32mIn[8], line 44\u001B[0m\n\u001B[1;32m     40\u001B[0m \u001B[38;5;28mprint\u001B[39m(date_array\u001B[38;5;241m.\u001B[39mshape)\n\u001B[1;32m     41\u001B[0m \u001B[38;5;28mprint\u001B[39m(np\u001B[38;5;241m.\u001B[39mwhere(date_array \u001B[38;5;241m==\u001B[39m \u001B[38;5;124m\"\u001B[39m\u001B[38;5;124m2018-01-01\u001B[39m\u001B[38;5;124m\"\u001B[39m))\n\u001B[0;32m---> 44\u001B[0m \u001B[38;5;28mprint\u001B[39m(np\u001B[38;5;241m.\u001B[39msum(number_of_tweets_per_day, axis\u001B[38;5;241m=\u001B[39m\u001B[38;5;241m0\u001B[39m))\n\u001B[1;32m     45\u001B[0m get_ipython()\u001B[38;5;241m.\u001B[39mrun_line_magic(\u001B[38;5;124m'\u001B[39m\u001B[38;5;124mmatplotlib\u001B[39m\u001B[38;5;124m'\u001B[39m, \u001B[38;5;124m'\u001B[39m\u001B[38;5;124mqt\u001B[39m\u001B[38;5;124m'\u001B[39m)\n\u001B[1;32m     47\u001B[0m plt\u001B[38;5;241m.\u001B[39mplot(date_array, number_of_tweets_per_day)\n",
      "\u001B[0;31mNameError\u001B[0m: name 'number_of_tweets_per_day' is not defined"
     ]
    }
   ],
   "execution_count": 8
  },
  {
   "metadata": {},
   "cell_type": "markdown",
   "source": "Function contains ",
   "id": "9b55f47ef3e5bfc3"
  },
  {
   "metadata": {
    "ExecuteTime": {
     "end_time": "2024-06-13T13:12:46.369917Z",
     "start_time": "2024-06-13T13:12:46.367598Z"
    }
   },
   "cell_type": "code",
   "source": [
    "def contains_any_word(text, word_set):\n",
    "    text_words = set(text.split())\n",
    "    return not text_words.isdisjoint(word_set)"
   ],
   "id": "acd3a83a695ba073",
   "outputs": [],
   "execution_count": 10
  },
  {
   "metadata": {},
   "cell_type": "markdown",
   "source": "Single file dictionary based statistics",
   "id": "2cb274dcc43a9622"
  },
  {
   "metadata": {
    "ExecuteTime": {
     "end_time": "2024-06-13T13:19:51.714442Z",
     "start_time": "2024-06-13T13:19:51.709791Z"
    }
   },
   "cell_type": "code",
   "source": [
    "def get_number_of_tweets_per_day_with_at_least_one_word(input_file, dictionary, date_array): \n",
    "    \n",
    "    nb_of_tweets_per_day_positive = np.zeros(date_array.shape)\n",
    "    \n",
    "    # Open the input file for reading\n",
    "    with open(input_file, 'r', newline='', encoding='utf-8') as infile:\n",
    "        reader = csv.reader(infile)\n",
    "        \n",
    "        \n",
    "        # Read the header\n",
    "        header = next(reader)\n",
    "        \n",
    "        # Process each row in the input file\n",
    "        for row in reader:\n",
    "            \n",
    "            text = row[1]\n",
    "            \n",
    "            if contains_any_word(text, dictionary): \n",
    "                \n",
    "                year = int(row[3])\n",
    "                month = int(row[4])\n",
    "                day = int(row[5])\n",
    "                date = datetime.date(year, month, day)\n",
    "                numpy_date = np.datetime64(date)\n",
    "                \n",
    "    \n",
    "                # find the index of the date in the date_range\n",
    "                index = np.where(date_array == numpy_date)\n",
    "    \n",
    "                # Increment the number of tweets for that day\n",
    "                nb_of_tweets_per_day_positive[index] += 1  \n",
    "                \n",
    "    return nb_of_tweets_per_day_positive\n",
    "    "
   ],
   "id": "aa751acf96d7d24a",
   "outputs": [],
   "execution_count": 28
  },
  {
   "metadata": {},
   "cell_type": "markdown",
   "source": "Test function ",
   "id": "6aa8c046f3f42732"
  },
  {
   "metadata": {
    "ExecuteTime": {
     "end_time": "2024-06-13T13:36:34.887664Z",
     "start_time": "2024-06-13T13:36:34.370532Z"
    }
   },
   "cell_type": "code",
   "source": [
    "date_array = get_date_array()\n",
    "dictionary = {\"Hi\"}\n",
    "nb = get_number_of_tweets_per_day_with_at_least_one_word(\"./data/filtered_data/IRAhandle_tweets_1.csv\",dictionary, date_array)\n",
    "print(np.sum(nb))\n",
    "plt.plot(date_array, nb)\n",
    "plt.show()\n",
    "\n",
    "del date_array\n",
    "del nb\n",
    "gc.collect()"
   ],
   "id": "ec39a93763301017",
   "outputs": [
    {
     "name": "stdout",
     "output_type": "stream",
     "text": [
      "45.0\n"
     ]
    },
    {
     "data": {
      "text/plain": [
       "23469"
      ]
     },
     "execution_count": 31,
     "metadata": {},
     "output_type": "execute_result"
    }
   ],
   "execution_count": 31
  },
  {
   "metadata": {},
   "cell_type": "markdown",
   "source": "Analysis on all files \n",
   "id": "f2dec290bfe1f340"
  },
  {
   "metadata": {
    "ExecuteTime": {
     "end_time": "2024-06-13T14:07:06.093559Z",
     "start_time": "2024-06-13T14:07:06.090517Z"
    }
   },
   "cell_type": "code",
   "source": [
    "def all_files_analysis(dictionary, date_array): \n",
    "    nb = np.zeros(date_array.shape)\n",
    "    for i in range(1, 14): \n",
    "        nb += get_number_of_tweets_per_day_with_at_least_one_word(\"./data/filtered_data/IRAhandle_tweets_{}.csv\".format(i),dictionary , date_array)\n",
    "    return nb\n"
   ],
   "id": "9a2d809afda25dd1",
   "outputs": [],
   "execution_count": 51
  },
  {
   "metadata": {},
   "cell_type": "markdown",
   "source": "Test",
   "id": "f21abce58ab72511"
  },
  {
   "metadata": {
    "ExecuteTime": {
     "end_time": "2024-06-13T14:07:11.695410Z",
     "start_time": "2024-06-13T14:07:07.768369Z"
    }
   },
   "cell_type": "code",
   "source": [
    "date_array= get_date_array()\n",
    "dictionary = {\"Hi\"}\n",
    "nb = all_files_analysis(dictionary, date_array)\n",
    "\n",
    "plt.plot(date_array, nb)\n",
    "plt.show()\n",
    "print(np.sum(nb, axis=0))\n",
    "del nb\n",
    "del date_array\n",
    "gc.collect()"
   ],
   "id": "18431e3562cb928",
   "outputs": [
    {
     "name": "stdout",
     "output_type": "stream",
     "text": [
      "448.0\n"
     ]
    },
    {
     "data": {
      "text/plain": [
       "2990"
      ]
     },
     "execution_count": 52,
     "metadata": {},
     "output_type": "execute_result"
    }
   ],
   "execution_count": 52
  },
  {
   "metadata": {},
   "cell_type": "markdown",
   "source": "Parallel version",
   "id": "ea03e9a816ce5092"
  },
  {
   "metadata": {
    "ExecuteTime": {
     "end_time": "2024-06-13T14:07:42.761448Z",
     "start_time": "2024-06-13T14:07:42.758608Z"
    }
   },
   "cell_type": "code",
   "source": [
    "import concurrent.futures\n",
    "def analyze_file(file_index, dictionary, date_array):\n",
    "    file_path = f\"./data/filtered_data/IRAhandle_tweets_{file_index}.csv\"\n",
    "    return get_number_of_tweets_per_day_with_at_least_one_word(file_path, dictionary, date_array)\n",
    "\n",
    "def all_files_analysis_par(dictionary, date_array):\n",
    "    nb = np.zeros(date_array.shape)\n",
    "    file_indices = range(1, 14)  \n",
    "    \n",
    "    with concurrent.futures.ThreadPoolExecutor() as executor:\n",
    "        futures = [executor.submit(analyze_file, i, dictionary, date_array) for i in file_indices]\n",
    "        for future in concurrent.futures.as_completed(futures):\n",
    "            nb += future.result()\n",
    "\n",
    "    return nb\n",
    "\n"
   ],
   "id": "64fee7165827dda8",
   "outputs": [],
   "execution_count": 54
  },
  {
   "metadata": {},
   "cell_type": "markdown",
   "source": "Test\n",
   "id": "a29b5751b7d777a6"
  },
  {
   "metadata": {
    "ExecuteTime": {
     "end_time": "2024-06-13T14:07:48.237997Z",
     "start_time": "2024-06-13T14:07:44.037082Z"
    }
   },
   "cell_type": "code",
   "source": [
    "date_array= get_date_array()\n",
    "dictionary = {\"Hi\"}\n",
    "nb = all_files_analysis_par(dictionary, date_array)\n",
    "plt.plot(date_array, nb)\n",
    "plt.show()\n",
    "print(np.sum(nb, axis=0))\n",
    "del nb\n",
    "del date_array\n",
    "gc.collect()"
   ],
   "id": "6e5e36abbf8acb44",
   "outputs": [
    {
     "name": "stdout",
     "output_type": "stream",
     "text": [
      "448.0\n"
     ]
    },
    {
     "data": {
      "text/plain": [
       "2987"
      ]
     },
     "execution_count": 55,
     "metadata": {},
     "output_type": "execute_result"
    }
   ],
   "execution_count": 55
  }
 ],
 "metadata": {
  "kernelspec": {
   "display_name": "Python 3",
   "language": "python",
   "name": "python3"
  },
  "language_info": {
   "codemirror_mode": {
    "name": "ipython",
    "version": 2
   },
   "file_extension": ".py",
   "mimetype": "text/x-python",
   "name": "python",
   "nbconvert_exporter": "python",
   "pygments_lexer": "ipython2",
   "version": "2.7.6"
  }
 },
 "nbformat": 4,
 "nbformat_minor": 5
}
