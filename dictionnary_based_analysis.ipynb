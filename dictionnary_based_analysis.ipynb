{
 "cells": [
  {
   "cell_type": "markdown",
   "id": "4b8e8d93ae471610",
   "metadata": {},
   "source": [
    "Importation of packages"
   ]
  },
  {
   "cell_type": "code",
   "id": "80f5fcd342a07907",
   "metadata": {
    "ExecuteTime": {
     "end_time": "2024-08-12T09:47:46.050695Z",
     "start_time": "2024-08-12T09:47:45.327850Z"
    }
   },
   "source": [
    "import filter_data  # class containing filter methods \n",
    "import date_handling  # ￼class containing date related methods\n",
    "import tweet_analysis  # class containing the method for the content analysis of the tweets. \n",
    "import constants  # import global constants\n",
    "import plot # plotting functions \n",
    "import dictionnaries # defined dictionaries\n",
    "import numpy as np # numpy for array handling\n",
    "import percentage # compute percentage\n",
    "\n",
    "# Reload each module\n",
    "import importlib\n",
    "\n",
    "importlib.reload(filter_data)\n",
    "importlib.reload(date_handling)\n",
    "importlib.reload(tweet_analysis)\n",
    "importlib.reload(constants)\n",
    "importlib.reload(plot)\n",
    "importlib.reload(dictionnaries)\n",
    "\n"
   ],
   "outputs": [
    {
     "data": {
      "text/plain": [
       "<module 'dictionnaries' from '/home/loris/Desktop/populist_russians_bots/dictionnaries.py'>"
      ]
     },
     "execution_count": 2,
     "metadata": {},
     "output_type": "execute_result"
    }
   ],
   "execution_count": 2
  },
  {
   "cell_type": "markdown",
   "id": "ddfc0e88536dab11",
   "metadata": {},
   "source": [
    "Definition of constants \n"
   ]
  },
  {
   "cell_type": "code",
   "id": "ec0614fa7500e344",
   "metadata": {
    "ExecuteTime": {
     "end_time": "2024-08-12T09:47:48.167466Z",
     "start_time": "2024-08-12T09:47:48.163895Z"
    }
   },
   "source": [
    "START_DATE = np.datetime64('2014-07-01') # Date of the first published tweet in English \n",
    "END_DATE = np.datetime64('2018-06-01') # Date of the last published tweet in English \n"
   ],
   "outputs": [],
   "execution_count": 3
  },
  {
   "cell_type": "markdown",
   "id": "c6c43b8cc99412e2",
   "metadata": {},
   "source": [
    "Filter the data : \n",
    "- Keep only tweets written in english \n",
    "- Remove links in the tweets\n",
    "- Remove columns that we do not need \n",
    "- Reformat dates"
   ]
  },
  {
   "cell_type": "code",
   "id": "2135a4bb255d1789",
   "metadata": {
    "ExecuteTime": {
     "end_time": "2024-08-11T19:44:08.360920Z",
     "start_time": "2024-08-11T19:43:24.708291Z"
    }
   },
   "source": [
    "# Warning: This cell needs to be run only once. \n",
    "\n",
    "# Define the set of column indices to keep\n",
    "COLUMN_INDICES = {1, 2, 5, 13}\n",
    "\n",
    "# Call the function with the input file name and column indices\n",
    "for i in range(1, 14): \n",
    "    input_path= constants.RAW_DATA_PATH.format(i)\n",
    "    output_path= constants.PRE_PROCESSED_DATA_PATH.format(i)\n",
    "    filter_data.filter_csv(input_path, output_path, COLUMN_INDICES, 4, \"English\") # Keep only tweets in english \n",
    "    filter_data.extract_date_columns(output_path, output_path)\n",
    "    filter_data.remove_links(output_path, output_path)\n",
    "    filter_data.convert_to_lowercase(output_path, output_path)"
   ],
   "outputs": [],
   "execution_count": 10
  },
  {
   "cell_type": "markdown",
   "id": "5c572ba69b498106",
   "metadata": {},
   "source": []
  },
  {
   "cell_type": "markdown",
   "id": "16eadfdf08b04ed",
   "metadata": {},
   "source": [
    "Get the array of dates that span the period of the tweets"
   ]
  },
  {
   "cell_type": "code",
   "id": "bda6f449fe9ceb80",
   "metadata": {
    "ExecuteTime": {
     "end_time": "2024-08-12T09:47:50.942589Z",
     "start_time": "2024-08-12T09:47:50.936943Z"
    }
   },
   "source": [
    "date_array = date_handling.get_date_array(START_DATE, END_DATE)"
   ],
   "outputs": [],
   "execution_count": 4
  },
  {
   "cell_type": "markdown",
   "id": "9918cccda7d3da2b",
   "metadata": {},
   "source": [
    "(Optional) Plot the number of tweets over the period"
   ]
  },
  {
   "cell_type": "code",
   "id": "78bc322e6dcc34ed",
   "metadata": {
    "ExecuteTime": {
     "end_time": "2024-08-11T20:52:43.304794Z",
     "start_time": "2024-08-11T20:52:30.744494Z"
    }
   },
   "source": [
    "nb_of_tweets_per_day = tweet_analysis.get_nb_of_tweets_per_day(date_array)\n",
    "print(nb_of_tweets_per_day.sum(axis=0))\n"
   ],
   "outputs": [
    {
     "name": "stdout",
     "output_type": "stream",
     "text": [
      "2116719.0\n"
     ]
    }
   ],
   "execution_count": 7
  },
  {
   "cell_type": "code",
   "id": "ac623aa178ff3c52",
   "metadata": {
    "ExecuteTime": {
     "end_time": "2024-08-11T19:44:21.641137Z",
     "start_time": "2024-08-11T19:44:21.450329Z"
    }
   },
   "source": [
    "%matplotlib qt\n",
    "\n",
    "plot.plot_result(date_array, nb_of_tweets_per_day, START_DATE, END_DATE)"
   ],
   "outputs": [
    {
     "name": "stderr",
     "output_type": "stream",
     "text": [
      "libEGL warning: MESA-LOADER: failed to open iris: /usr/lib/dri/iris_dri.so: cannot open shared object file: No such file or directory (search paths /usr/lib/x86_64-linux-gnu/dri:\\$${ORIGIN}/dri:/usr/lib/dri, suffix _dri)\n",
      "\n",
      "libEGL warning: MESA-LOADER: failed to open zink: /usr/lib/dri/zink_dri.so: cannot open shared object file: No such file or directory (search paths /usr/lib/x86_64-linux-gnu/dri:\\$${ORIGIN}/dri:/usr/lib/dri, suffix _dri)\n",
      "\n",
      "libEGL warning: MESA-LOADER: failed to open swrast: /usr/lib/dri/swrast_dri.so: cannot open shared object file: No such file or directory (search paths /usr/lib/x86_64-linux-gnu/dri:\\$${ORIGIN}/dri:/usr/lib/dri, suffix _dri)\n",
      "\n",
      "qt.qpa.wayland: Failed to initialize EGL display 3001\n"
     ]
    }
   ],
   "execution_count": 13
  },
  {
   "cell_type": "markdown",
   "id": "2cfe5b1832f1a52",
   "metadata": {},
   "source": [
    "Dictionary analysis\n"
   ]
  },
  {
   "cell_type": "code",
   "id": "b1057797a702a86f",
   "metadata": {
    "ExecuteTime": {
     "end_time": "2024-08-11T19:44:27.193565Z",
     "start_time": "2024-08-11T19:44:21.642551Z"
    }
   },
   "source": [
    "nb_of_tweets_filtered_with_dic = tweet_analysis.dataset_analysis(dictionnaries.dic_rooduijn_pauwels, date_array)\n"
   ],
   "outputs": [],
   "execution_count": 14
  },
  {
   "cell_type": "markdown",
   "id": "e7a3d4b79e3b7f8b",
   "metadata": {},
   "source": [
    "Plot result of dictionary analysis"
   ]
  },
  {
   "cell_type": "code",
   "id": "69c7fe4ead9560d6",
   "metadata": {
    "ExecuteTime": {
     "end_time": "2024-08-11T19:44:27.197875Z",
     "start_time": "2024-08-11T19:44:27.194539Z"
    }
   },
   "source": "plot.plot_result(date_array,nb_of_tweets_filtered_with_dic, START_DATE, END_DATE)",
   "outputs": [],
   "execution_count": 15
  },
  {
   "cell_type": "markdown",
   "id": "1a3609c5838499e0",
   "metadata": {},
   "source": [
    "Get percentage of tweets with at least one words over the total nb of tweets"
   ]
  },
  {
   "cell_type": "code",
   "id": "ad4eaaf7e0ca8b89",
   "metadata": {
    "ExecuteTime": {
     "end_time": "2024-08-11T19:44:27.201863Z",
     "start_time": "2024-08-11T19:44:27.198578Z"
    }
   },
   "source": [
    "percentage = percentage.percentage_of_tweets(nb_of_tweets_filtered_with_dic, nb_of_tweets_per_day)\n",
    "plot.plot_result(date_array, percentage, START_DATE, END_DATE)"
   ],
   "outputs": [],
   "execution_count": 16
  },
  {
   "metadata": {},
   "cell_type": "markdown",
   "source": "",
   "id": "a51794112077bb45"
  },
  {
   "metadata": {},
   "cell_type": "markdown",
   "source": "# Populist dictionaries \n",
   "id": "5adb03dcdad3a621"
  },
  {
   "metadata": {},
   "cell_type": "markdown",
   "source": "Extract the dictionaries of populist expressions",
   "id": "5701625deef8e75e"
  },
  {
   "metadata": {
    "ExecuteTime": {
     "end_time": "2024-08-12T09:47:55.349804Z",
     "start_time": "2024-08-12T09:47:55.254136Z"
    }
   },
   "cell_type": "code",
   "source": [
    "anti_elitism_dictionary = dictionnaries.extract_grundle_translation_dictionary(\"anti-elitism\")\n",
    "people_centrism_dictionary = dictionnaries.extract_grundle_translation_dictionary(\"people-centrism\")\n",
    "sovereignty_dictionary = dictionnaries.extract_grundle_translation_dictionary(\"sovereignty\")\n",
    "print(\"anti-elitism dictionary contains {} words\".format(len(anti_elitism_dictionary)))\n",
    "print(\"people_centrism dictionary contains {} words\".format(len(people_centrism_dictionary)))\n",
    "print(\"sovereignty dictionary contains {} words\".format(len(sovereignty_dictionary)))"
   ],
   "id": "54140972abb10791",
   "outputs": [
    {
     "name": "stdout",
     "output_type": "stream",
     "text": [
      "anti-elitism dictionary contains 7288 words\n",
      "people_centrism dictionary contains 3135 words\n",
      "sovereignty dictionary contains 426 words\n"
     ]
    }
   ],
   "execution_count": 5
  },
  {
   "metadata": {},
   "cell_type": "markdown",
   "source": "# Analysis",
   "id": "6744b3c8d97f5372"
  },
  {
   "metadata": {},
   "cell_type": "markdown",
   "source": "Perform the anti-elitism analysis ",
   "id": "d8162a6dca1dfd4"
  },
  {
   "metadata": {
    "ExecuteTime": {
     "end_time": "2024-08-11T20:38:05.453401Z",
     "start_time": "2024-08-11T20:14:57.358843Z"
    }
   },
   "cell_type": "code",
   "source": [
    "nb_of_tweets_anti_elitist = tweet_analysis.dataset_analysis(anti_elitism_dictionary,date_array)\n",
    "np.save('./cached_results/nb_of_tweets_anti_elitist.npy', nb_of_tweets_anti_elitist) # Store result in storage"
   ],
   "id": "f25e7c9ae5d7a201",
   "outputs": [
    {
     "name": "stdout",
     "output_type": "stream",
     "text": [
      "processing file 1\n",
      "4.9114227294921875e-05\n",
      "processing file 2\n",
      "131.72613978385925\n",
      "processing file 3\n",
      "257.0437738895416\n",
      "processing file 4\n",
      "395.72542905807495\n",
      "processing file 5\n",
      "521.0596373081207\n",
      "processing file 6\n",
      "629.6913123130798\n",
      "processing file 7\n",
      "771.8664197921753\n",
      "processing file 8\n",
      "872.5399751663208\n",
      "processing file 9\n",
      "953.3470366001129\n",
      "processing file 10\n",
      "1032.5981602668762\n",
      "processing file 11\n",
      "1146.304619550705\n",
      "processing file 12\n",
      "1268.4046595096588\n",
      "processing file 13\n",
      "1380.129861831665\n"
     ]
    }
   ],
   "execution_count": 5
  },
  {
   "metadata": {},
   "cell_type": "markdown",
   "source": "Perform the people_centrism analysis \n",
   "id": "88067992386f4a91"
  },
  {
   "metadata": {
    "ExecuteTime": {
     "end_time": "2024-08-11T21:08:11.790728Z",
     "start_time": "2024-08-11T20:57:45.753872Z"
    }
   },
   "cell_type": "code",
   "source": [
    "nb_of_tweets_people_centrism = tweet_analysis.dataset_analysis(people_centrism_dictionary,date_array)\n",
    "np.save('./cached_results/nb_of_tweets_people_centrism.npy', nb_of_tweets_people_centrism)"
   ],
   "id": "35928fd3c1d7f83f",
   "outputs": [
    {
     "name": "stdout",
     "output_type": "stream",
     "text": [
      "processing file 1\n",
      "8.440017700195312e-05\n",
      "processing file 2\n",
      "60.74401068687439\n",
      "processing file 3\n",
      "119.36048793792725\n",
      "processing file 4\n",
      "183.60057997703552\n",
      "processing file 5\n",
      "241.99017453193665\n",
      "processing file 6\n",
      "290.83711409568787\n",
      "processing file 7\n",
      "352.8362989425659\n",
      "processing file 8\n",
      "397.9904148578644\n",
      "processing file 9\n",
      "434.26134753227234\n",
      "processing file 10\n",
      "469.16220331192017\n",
      "processing file 11\n",
      "518.4147465229034\n",
      "processing file 12\n",
      "572.2147982120514\n",
      "processing file 13\n",
      "622.5426344871521\n"
     ]
    }
   ],
   "execution_count": 13
  },
  {
   "metadata": {},
   "cell_type": "markdown",
   "source": "",
   "id": "1e5ec75eea70dc6c"
  },
  {
   "metadata": {},
   "cell_type": "markdown",
   "source": "Perform the sovereignty analysis",
   "id": "72553a115ce545c8"
  },
  {
   "metadata": {
    "ExecuteTime": {
     "end_time": "2024-08-11T21:14:57.863601Z",
     "start_time": "2024-08-11T21:13:26.233159Z"
    }
   },
   "cell_type": "code",
   "source": [
    "nb_of_tweets_sovereignty = tweet_analysis.dataset_analysis(sovereignty_dictionary, date_array)\n",
    "np.save('./cached_results/nb_of_tweets_sovereignty.npy', nb_of_tweets_sovereignty)"
   ],
   "id": "e1d2b358c0475bcf",
   "outputs": [
    {
     "name": "stdout",
     "output_type": "stream",
     "text": [
      "processing file 1\n",
      "0.0002989768981933594\n",
      "processing file 2\n",
      "8.894880056381226\n",
      "processing file 3\n",
      "17.40390396118164\n",
      "processing file 4\n",
      "26.74119734764099\n",
      "processing file 5\n",
      "35.13206362724304\n",
      "processing file 6\n",
      "42.358131408691406\n",
      "processing file 7\n",
      "51.51526498794556\n",
      "processing file 8\n",
      "58.053232192993164\n",
      "processing file 9\n",
      "63.371689796447754\n",
      "processing file 10\n",
      "68.62022280693054\n",
      "processing file 11\n",
      "75.86168646812439\n",
      "processing file 12\n",
      "83.84404349327087\n",
      "processing file 13\n",
      "91.11701703071594\n"
     ]
    }
   ],
   "execution_count": 14
  },
  {
   "metadata": {},
   "cell_type": "markdown",
   "source": "Perform the analysis for the Right Trolls ",
   "id": "94545a4251cbf835"
  },
  {
   "metadata": {
    "ExecuteTime": {
     "end_time": "2024-08-12T10:44:04.608339Z",
     "start_time": "2024-08-12T09:47:59.673964Z"
    }
   },
   "cell_type": "code",
   "source": [
    "nb_tweets_right_anti_elitist = tweet_analysis.dataset_analysis(anti_elitism_dictionary, date_array, \"RightTroll\")\n",
    "nb_tweets_right_people_centrism = tweet_analysis.dataset_analysis(people_centrism_dictionary, date_array, \"RightTroll\")\n",
    "nb_tweets_right_sovereignty = tweet_analysis.dataset_analysis(sovereignty_dictionary, date_array, \"RightTroll\")\n",
    "np.save(\"./cached_results/nb_tweets_right_anti_elitist.npy\", nb_tweets_right_anti_elitist)\n",
    "np.save(\"./cached_results/nb_tweets_right_people_centrism.npy\", nb_tweets_right_people_centrism)\n",
    "np.save(\"./cached_results/nb_tweets_right_sovereignty.npy\", nb_tweets_right_sovereignty)"
   ],
   "id": "151d6876f59b93bd",
   "outputs": [
    {
     "name": "stdout",
     "output_type": "stream",
     "text": [
      "processing file 1\n",
      "0.0004076957702636719\n",
      "processing file 2\n",
      "215.3645522594452\n",
      "processing file 3\n",
      "411.87449622154236\n",
      "processing file 4\n",
      "635.8055195808411\n",
      "processing file 5\n",
      "844.0977220535278\n",
      "processing file 6\n",
      "1023.1581933498383\n",
      "processing file 7\n",
      "1247.3113045692444\n",
      "processing file 8\n",
      "1402.2921578884125\n",
      "processing file 9\n",
      "1526.9980773925781\n",
      "processing file 10\n",
      "1645.093108177185\n",
      "processing file 11\n",
      "1827.134846687317\n",
      "processing file 12\n",
      "2019.8090846538544\n",
      "processing file 13\n",
      "2190.700097799301\n",
      "processing file 1\n",
      "6.532669067382812e-05\n",
      "processing file 2\n",
      "97.64743971824646\n",
      "processing file 3\n",
      "193.1334023475647\n",
      "processing file 4\n",
      "296.4744896888733\n",
      "processing file 5\n",
      "391.2334864139557\n",
      "processing file 6\n",
      "469.1361665725708\n",
      "processing file 7\n",
      "567.8150594234467\n",
      "processing file 8\n",
      "641.1044006347656\n",
      "processing file 9\n",
      "700.5750844478607\n",
      "processing file 10\n",
      "757.2609882354736\n",
      "processing file 11\n",
      "837.755576133728\n",
      "processing file 12\n",
      "925.376757144928\n",
      "processing file 13\n",
      "1007.297886133194\n",
      "processing file 1\n",
      "8.0108642578125e-05\n",
      "processing file 2\n",
      "14.356534004211426\n",
      "processing file 3\n",
      "28.220550298690796\n",
      "processing file 4\n",
      "43.450265407562256\n",
      "processing file 5\n",
      "57.16951370239258\n",
      "processing file 6\n",
      "68.94826579093933\n",
      "processing file 7\n",
      "83.76408791542053\n",
      "processing file 8\n",
      "94.44699192047119\n",
      "processing file 9\n",
      "103.10448455810547\n",
      "processing file 10\n",
      "111.52823066711426\n",
      "processing file 11\n",
      "123.30139946937561\n",
      "processing file 12\n",
      "136.1530647277832\n",
      "processing file 13\n",
      "148.11604642868042\n"
     ]
    }
   ],
   "execution_count": 6
  },
  {
   "metadata": {},
   "cell_type": "markdown",
   "source": "Perform the analysis for the Left Trolls ",
   "id": "20bb33cc764caa65"
  },
  {
   "metadata": {},
   "cell_type": "code",
   "outputs": [],
   "execution_count": null,
   "source": [
    "nb_tweets_left_anti_elitist = tweet_analysis.dataset_analysis(anti_elitism_dictionary, date_array, \"LeftTroll\")\n",
    "nb_tweets_left_people_centrism = tweet_analysis.dataset_analysis(people_centrism_dictionary, date_array, \"LeftTroll\")\n",
    "nb_tweets_left_sovereignty = tweet_analysis.dataset_analysis(sovereignty_dictionary, date_array, \"LeftTroll\")\n",
    "np.save(\"./cached_results/nb_tweets_left_anti_elitist.npy\", nb_tweets_left_anti_elitist)\n",
    "np.save(\"./cached_results/nb_tweets_left_people_centrism.npy\", nb_tweets_left_people_centrism)\n",
    "np.save(\"./cached_results/nb_tweets_left_sovereignty.npy\", nb_tweets_left_sovereignty)"
   ],
   "id": "144236c2c062c006"
  },
  {
   "metadata": {},
   "cell_type": "markdown",
   "source": "Perform the analysis for the News Feed",
   "id": "61f3ec9c7f6beabd"
  },
  {
   "metadata": {},
   "cell_type": "code",
   "outputs": [],
   "execution_count": null,
   "source": [
    "nb_tweets_news_anti_elitist = tweet_analysis.dataset_analysis(anti_elitism_dictionary, date_array, \"NewsFeed\")\n",
    "nb_tweets_news_people_centrism = tweet_analysis.dataset_analysis(people_centrism_dictionary, date_array, \"NewsFeed\")\n",
    "nb_tweets_news_sovereignty = tweet_analysis.dataset_analysis(sovereignty_dictionary, date_array, \"NewsFeed\")\n",
    "np.save(\"./cached_results/nb_tweets_news_anti_elitist.npy\", nb_tweets_news_anti_elitist)\n",
    "np.save(\"./cached_results/nb_tweets_news_people_centrism.npy\", nb_tweets_news_people_centrism)\n",
    "np.save(\"./cached_results/nb_tweets_news_sovereignty.npy\", nb_tweets_news_sovereignty)"
   ],
   "id": "20a96c17e162666"
  },
  {
   "metadata": {},
   "cell_type": "markdown",
   "source": "Perform the analysis for the hashtag gamer",
   "id": "2880cf326c41d46a"
  },
  {
   "metadata": {},
   "cell_type": "code",
   "outputs": [],
   "execution_count": null,
   "source": [
    "nb_tweets_gamer_anti_elitist = tweet_analysis.dataset_analysis(anti_elitism_dictionary, date_array, \"HashtagGamer\")\n",
    "nb_tweets_gamer_people_centrism = tweet_analysis.dataset_analysis(people_centrism_dictionary, date_array, \"HashtagGamer\")\n",
    "nb_tweets_gamer_sovereignty = tweet_analysis.dataset_analysis(sovereignty_dictionary, date_array, \"HashtagGamer\")\n",
    "np.save(\"./cached_results/nb_tweets_gamer_anti_elitist.npy\", nb_tweets_gamer_anti_elitist)\n",
    "np.save(\"./cached_results/nb_tweets_gamer_people_centrism.npy\", nb_tweets_gamer_people_centrism)\n",
    "np.save(\"./cached_results/nb_tweets_gamer_sovereignty.npy\", nb_tweets_gamer_sovereignty)"
   ],
   "id": "b5f3b6484e126034"
  },
  {
   "metadata": {},
   "cell_type": "markdown",
   "source": "Perform the analysis for the Fearmonger",
   "id": "ea9ce82bd420bca4"
  },
  {
   "metadata": {},
   "cell_type": "code",
   "outputs": [],
   "execution_count": null,
   "source": [
    "nb_tweets_fear_anti_elitist = tweet_analysis.dataset_analysis(anti_elitism_dictionary, date_array, \"Fearmonger\")\n",
    "nb_tweets_fear_people_centrism = tweet_analysis.dataset_analysis(people_centrism_dictionary, date_array, \"Fearmonger\")\n",
    "nb_tweets_fear_sovereignty = tweet_analysis.dataset_analysis(sovereignty_dictionary, date_array, \"Fearmonger\")\n",
    "np.save(\"./cached_results/nb_tweets_fear_anti_elitist.npy\", nb_tweets_fear_anti_elitist)\n",
    "np.save(\"./cached_results/nb_tweets_fear_people_centrism.npy\", nb_tweets_fear_people_centrism)\n",
    "np.save(\"./cached_results/nb_tweets_fear_sovereignty.npy\", nb_tweets_fear_sovereignty)"
   ],
   "id": "c9173da22dbb552e"
  },
  {
   "metadata": {},
   "cell_type": "markdown",
   "source": "# Plot results ",
   "id": "77bc6d1a090cea7b"
  },
  {
   "metadata": {},
   "cell_type": "markdown",
   "source": "Global anti-elitist ",
   "id": "cd9748eb2a151431"
  },
  {
   "metadata": {},
   "cell_type": "code",
   "outputs": [],
   "execution_count": null,
   "source": [
    "%matplotlib qt\n",
    "# %matplotlib inline \n",
    "nb_of_tweets_anti_elitist = np.load('./cached_results/nb_of_tweets_anti_elitist.npy')\n",
    "percentage_anti_elitist = percentage.percentage_of_tweets(nb_of_tweets_anti_elitist, nb_of_tweets_per_day)\n",
    "plot.plot_result(date_array, percentage_anti_elitist, START_DATE, END_DATE)\n",
    "mean_percentage = np.mean(percentage_anti_elitist)\n",
    "\n",
    "print(\"Mean percentage: \", mean_percentage)"
   ],
   "id": "a516c44c82cfe715"
  },
  {
   "metadata": {},
   "cell_type": "markdown",
   "source": "Global people centrism\n",
   "id": "293379938592526c"
  },
  {
   "metadata": {},
   "cell_type": "code",
   "outputs": [],
   "execution_count": null,
   "source": [
    "%matplotlib qt\n",
    "# %matplotlib inline \n",
    "nb_of_tweets_people_centrism = np.load('./cached_results/nb_of_tweets_people_centrism.npy')\n",
    "percentage_people_centrism = percentage.percentage_of_tweets(nb_of_tweets_people_centrism, nb_of_tweets_per_day)\n",
    "plot.plot_result(date_array, percentage_people_centrism, START_DATE, END_DATE)\n",
    "mean_percentage = np.mean(percentage_people_centrism)\n",
    "\n",
    "print(\"Mean percentage: \", mean_percentage)"
   ],
   "id": "22214581a5203b02"
  },
  {
   "metadata": {},
   "cell_type": "markdown",
   "source": "Global sovereignty\n",
   "id": "5d7668cc0744142b"
  },
  {
   "metadata": {},
   "cell_type": "code",
   "outputs": [],
   "execution_count": null,
   "source": "",
   "id": "a774023ed0d62594"
  }
 ],
 "metadata": {
  "kernelspec": {
   "display_name": "Python 3",
   "language": "python",
   "name": "python3"
  },
  "language_info": {
   "codemirror_mode": {
    "name": "ipython",
    "version": 3
   },
   "file_extension": ".py",
   "mimetype": "text/x-python",
   "name": "python",
   "nbconvert_exporter": "python",
   "pygments_lexer": "ipython3",
   "version": "3.11.7"
  }
 },
 "nbformat": 4,
 "nbformat_minor": 5
}
