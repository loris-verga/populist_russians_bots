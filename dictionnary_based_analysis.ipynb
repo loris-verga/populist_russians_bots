{
 "cells": [
  {
   "cell_type": "markdown",
   "id": "4b8e8d93ae471610",
   "metadata": {},
   "source": [
    "Importation of packages"
   ]
  },
  {
   "cell_type": "code",
   "id": "80f5fcd342a07907",
   "metadata": {
    "ExecuteTime": {
     "end_time": "2024-08-12T11:16:25.157456Z",
     "start_time": "2024-08-12T11:16:25.146813Z"
    }
   },
   "source": [
    "import filter_data  # class containing filter methods \n",
    "import date_handling  # ￼class containing date related methods\n",
    "import tweet_analysis  # class containing the method for the content analysis of the tweets. \n",
    "import constants  # import global constants\n",
    "import plot # plotting functions \n",
    "import dictionnaries # defined dictionaries\n",
    "import numpy as np # numpy for array handling\n",
    "import percentage # compute percentage\n",
    "\n",
    "# Reload each module\n",
    "import importlib\n",
    "\n",
    "importlib.reload(filter_data)\n",
    "importlib.reload(date_handling)\n",
    "importlib.reload(tweet_analysis)\n",
    "importlib.reload(constants)\n",
    "importlib.reload(plot)\n",
    "importlib.reload(dictionnaries)\n",
    "\n"
   ],
   "outputs": [
    {
     "data": {
      "text/plain": [
       "<module 'dictionnaries' from '/home/loris/Desktop/populist_russians_bots/dictionnaries.py'>"
      ]
     },
     "execution_count": 20,
     "metadata": {},
     "output_type": "execute_result"
    }
   ],
   "execution_count": 20
  },
  {
   "cell_type": "markdown",
   "id": "ddfc0e88536dab11",
   "metadata": {},
   "source": [
    "Definition of constants \n"
   ]
  },
  {
   "cell_type": "code",
   "id": "ec0614fa7500e344",
   "metadata": {
    "ExecuteTime": {
     "end_time": "2024-08-12T11:08:08.958773Z",
     "start_time": "2024-08-12T11:08:08.953102Z"
    }
   },
   "source": [
    "START_DATE = np.datetime64('2014-07-01') # Date of the first published tweet in English \n",
    "END_DATE = np.datetime64('2018-06-01') # Date of the last published tweet in English \n"
   ],
   "outputs": [],
   "execution_count": 2
  },
  {
   "cell_type": "markdown",
   "id": "c6c43b8cc99412e2",
   "metadata": {},
   "source": [
    "Filter the data : \n",
    "- Keep only tweets written in english \n",
    "- Remove links in the tweets\n",
    "- Remove columns that we do not need \n",
    "- Reformat dates"
   ]
  },
  {
   "cell_type": "code",
   "id": "2135a4bb255d1789",
   "metadata": {
    "ExecuteTime": {
     "end_time": "2024-08-11T19:44:08.360920Z",
     "start_time": "2024-08-11T19:43:24.708291Z"
    }
   },
   "source": [
    "# Warning: This cell needs to be run only once. \n",
    "\n",
    "# Define the set of column indices to keep\n",
    "COLUMN_INDICES = {1, 2, 5, 13}\n",
    "\n",
    "# Call the function with the input file name and column indices\n",
    "for i in range(1, 14): \n",
    "    input_path= constants.RAW_DATA_PATH.format(i)\n",
    "    output_path= constants.PRE_PROCESSED_DATA_PATH.format(i)\n",
    "    filter_data.filter_csv(input_path, output_path, COLUMN_INDICES, 4, \"English\") # Keep only tweets in english \n",
    "    filter_data.extract_date_columns(output_path, output_path)\n",
    "    filter_data.remove_links(output_path, output_path)\n",
    "    filter_data.convert_to_lowercase(output_path, output_path)"
   ],
   "outputs": [],
   "execution_count": 10
  },
  {
   "cell_type": "markdown",
   "id": "5c572ba69b498106",
   "metadata": {},
   "source": []
  },
  {
   "cell_type": "markdown",
   "id": "16eadfdf08b04ed",
   "metadata": {},
   "source": [
    "Get the array of dates that span the period of the tweets"
   ]
  },
  {
   "cell_type": "code",
   "id": "bda6f449fe9ceb80",
   "metadata": {
    "ExecuteTime": {
     "end_time": "2024-08-12T11:08:11.685319Z",
     "start_time": "2024-08-12T11:08:11.678905Z"
    }
   },
   "source": [
    "date_array = date_handling.get_date_array(START_DATE, END_DATE)"
   ],
   "outputs": [],
   "execution_count": 3
  },
  {
   "cell_type": "markdown",
   "id": "9918cccda7d3da2b",
   "metadata": {},
   "source": [
    "(Optional) Plot the number of tweets over the period"
   ]
  },
  {
   "cell_type": "code",
   "id": "78bc322e6dcc34ed",
   "metadata": {
    "ExecuteTime": {
     "end_time": "2024-08-12T11:08:36.215603Z",
     "start_time": "2024-08-12T11:08:14.473944Z"
    }
   },
   "source": [
    "nb_of_tweets_per_day = tweet_analysis.get_nb_of_tweets_per_day(date_array)\n",
    "print(nb_of_tweets_per_day.sum(axis=0))\n"
   ],
   "outputs": [
    {
     "name": "stdout",
     "output_type": "stream",
     "text": [
      "2116719.0\n"
     ]
    }
   ],
   "execution_count": 4
  },
  {
   "cell_type": "code",
   "id": "ac623aa178ff3c52",
   "metadata": {
    "ExecuteTime": {
     "end_time": "2024-08-11T19:44:21.641137Z",
     "start_time": "2024-08-11T19:44:21.450329Z"
    }
   },
   "source": [
    "%matplotlib qt\n",
    "\n",
    "plot.plot_result(date_array, nb_of_tweets_per_day, START_DATE, END_DATE)"
   ],
   "outputs": [
    {
     "name": "stderr",
     "output_type": "stream",
     "text": [
      "libEGL warning: MESA-LOADER: failed to open iris: /usr/lib/dri/iris_dri.so: cannot open shared object file: No such file or directory (search paths /usr/lib/x86_64-linux-gnu/dri:\\$${ORIGIN}/dri:/usr/lib/dri, suffix _dri)\n",
      "\n",
      "libEGL warning: MESA-LOADER: failed to open zink: /usr/lib/dri/zink_dri.so: cannot open shared object file: No such file or directory (search paths /usr/lib/x86_64-linux-gnu/dri:\\$${ORIGIN}/dri:/usr/lib/dri, suffix _dri)\n",
      "\n",
      "libEGL warning: MESA-LOADER: failed to open swrast: /usr/lib/dri/swrast_dri.so: cannot open shared object file: No such file or directory (search paths /usr/lib/x86_64-linux-gnu/dri:\\$${ORIGIN}/dri:/usr/lib/dri, suffix _dri)\n",
      "\n",
      "qt.qpa.wayland: Failed to initialize EGL display 3001\n"
     ]
    }
   ],
   "execution_count": 13
  },
  {
   "cell_type": "markdown",
   "id": "2cfe5b1832f1a52",
   "metadata": {},
   "source": [
    "Dictionary analysis\n"
   ]
  },
  {
   "cell_type": "code",
   "id": "b1057797a702a86f",
   "metadata": {
    "ExecuteTime": {
     "end_time": "2024-08-11T19:44:27.193565Z",
     "start_time": "2024-08-11T19:44:21.642551Z"
    }
   },
   "source": [
    "nb_of_tweets_filtered_with_dic = tweet_analysis.dataset_analysis(dictionnaries.dic_rooduijn_pauwels, date_array)\n"
   ],
   "outputs": [],
   "execution_count": 14
  },
  {
   "cell_type": "markdown",
   "id": "e7a3d4b79e3b7f8b",
   "metadata": {},
   "source": [
    "Plot result of dictionary analysis"
   ]
  },
  {
   "cell_type": "code",
   "id": "69c7fe4ead9560d6",
   "metadata": {
    "ExecuteTime": {
     "end_time": "2024-08-11T19:44:27.197875Z",
     "start_time": "2024-08-11T19:44:27.194539Z"
    }
   },
   "source": "plot.plot_result(date_array,nb_of_tweets_filtered_with_dic, START_DATE, END_DATE)",
   "outputs": [],
   "execution_count": 15
  },
  {
   "cell_type": "markdown",
   "id": "1a3609c5838499e0",
   "metadata": {},
   "source": [
    "Get percentage of tweets with at least one words over the total nb of tweets"
   ]
  },
  {
   "cell_type": "code",
   "id": "ad4eaaf7e0ca8b89",
   "metadata": {
    "ExecuteTime": {
     "end_time": "2024-08-11T19:44:27.201863Z",
     "start_time": "2024-08-11T19:44:27.198578Z"
    }
   },
   "source": [
    "percentage = percentage.percentage_of_tweets(nb_of_tweets_filtered_with_dic, nb_of_tweets_per_day)\n",
    "plot.plot_result(date_array, percentage, START_DATE, END_DATE)"
   ],
   "outputs": [],
   "execution_count": 16
  },
  {
   "metadata": {},
   "cell_type": "markdown",
   "source": "",
   "id": "a51794112077bb45"
  },
  {
   "metadata": {},
   "cell_type": "markdown",
   "source": "# Populist dictionaries \n",
   "id": "5adb03dcdad3a621"
  },
  {
   "metadata": {},
   "cell_type": "markdown",
   "source": "Extract the dictionaries of populist expressions",
   "id": "5701625deef8e75e"
  },
  {
   "metadata": {
    "ExecuteTime": {
     "end_time": "2024-08-12T13:50:33.304680Z",
     "start_time": "2024-08-12T13:50:33.264950Z"
    }
   },
   "cell_type": "code",
   "source": [
    "anti_elitism_dictionary = dictionnaries.extract_grundle_translation_dictionary(\"anti-elitism\")\n",
    "people_centrism_dictionary = dictionnaries.extract_grundle_translation_dictionary(\"people-centrism\")\n",
    "sovereignty_dictionary = dictionnaries.extract_grundle_translation_dictionary(\"sovereignty\")\n",
    "print(\"anti-elitism dictionary contains {} words\".format(len(anti_elitism_dictionary)))\n",
    "print(\"people_centrism dictionary contains {} words\".format(len(people_centrism_dictionary)))\n",
    "print(\"sovereignty dictionary contains {} words\".format(len(sovereignty_dictionary)))\n",
    "all_criteria_dictionary = anti_elitism_dictionary.union(people_centrism_dictionary).union(sovereignty_dictionary)\n",
    "print(\"dictionary of all criteria contains {} words\".format(len(all_criteria_dictionary)))"
   ],
   "id": "54140972abb10791",
   "outputs": [
    {
     "name": "stdout",
     "output_type": "stream",
     "text": [
      "anti-elitism dictionary contains 7288 words\n",
      "people_centrism dictionary contains 3135 words\n",
      "sovereignty dictionary contains 426 words\n",
      "dictionary of all criteria contains 10833 words\n"
     ]
    }
   ],
   "execution_count": 26
  },
  {
   "metadata": {},
   "cell_type": "markdown",
   "source": "# Analysis",
   "id": "6744b3c8d97f5372"
  },
  {
   "metadata": {},
   "cell_type": "markdown",
   "source": "Perform the analysis for all criteria",
   "id": "1926723dcd388786"
  },
  {
   "metadata": {
    "ExecuteTime": {
     "end_time": "2024-08-12T14:23:58.247049Z",
     "start_time": "2024-08-12T13:50:33.306133Z"
    }
   },
   "cell_type": "code",
   "source": [
    "nb_of_tweets_with_at_least_one_criteria = tweet_analysis.dataset_analysis(all_criteria_dictionary, date_array)\n",
    "np.save(\"./cached_results/nb_of_tweets_with_at_least_one_criteria.npy\", nb_of_tweets_with_at_least_one_criteria)"
   ],
   "id": "5d4f7f644dd3d036",
   "outputs": [
    {
     "name": "stdout",
     "output_type": "stream",
     "text": [
      "processing file 1\n",
      "1.811981201171875e-05\n",
      "processing file 2\n",
      "195.377601146698\n",
      "processing file 3\n",
      "382.3301694393158\n",
      "processing file 4\n",
      "586.1631543636322\n",
      "processing file 5\n",
      "768.7021989822388\n",
      "processing file 6\n",
      "927.6805799007416\n",
      "processing file 7\n",
      "1129.1831333637238\n",
      "processing file 8\n",
      "1273.5779247283936\n",
      "processing file 9\n",
      "1388.289869070053\n",
      "processing file 10\n",
      "1500.284558057785\n",
      "processing file 11\n",
      "1661.5693047046661\n",
      "processing file 12\n",
      "1834.3246793746948\n",
      "processing file 13\n",
      "1993.6234483718872\n"
     ]
    }
   ],
   "execution_count": 27
  },
  {
   "metadata": {},
   "cell_type": "markdown",
   "source": "Perform the anti-elitism analysis ",
   "id": "d8162a6dca1dfd4"
  },
  {
   "metadata": {
    "ExecuteTime": {
     "end_time": "2024-08-12T11:08:54.276014Z",
     "start_time": "2024-08-12T11:08:40.380497Z"
    }
   },
   "cell_type": "code",
   "source": [
    "nb_of_tweets_anti_elitist = tweet_analysis.dataset_analysis(anti_elitism_dictionary,date_array)\n",
    "np.save('./cached_results/nb_of_tweets_anti_elitist.npy', nb_of_tweets_anti_elitist) # Store result in storage"
   ],
   "id": "f25e7c9ae5d7a201",
   "outputs": [
    {
     "name": "stdout",
     "output_type": "stream",
     "text": [
      "processing file 1\n",
      "0.0003180503845214844\n"
     ]
    },
    {
     "ename": "KeyboardInterrupt",
     "evalue": "",
     "output_type": "error",
     "traceback": [
      "\u001B[0;31m---------------------------------------------------------------------------\u001B[0m",
      "\u001B[0;31mKeyboardInterrupt\u001B[0m                         Traceback (most recent call last)",
      "Cell \u001B[0;32mIn[6], line 1\u001B[0m\n\u001B[0;32m----> 1\u001B[0m nb_of_tweets_anti_elitist \u001B[38;5;241m=\u001B[39m \u001B[43mtweet_analysis\u001B[49m\u001B[38;5;241;43m.\u001B[39;49m\u001B[43mdataset_analysis\u001B[49m\u001B[43m(\u001B[49m\u001B[43manti_elitism_dictionary\u001B[49m\u001B[43m,\u001B[49m\u001B[43mdate_array\u001B[49m\u001B[43m)\u001B[49m\n\u001B[1;32m      2\u001B[0m np\u001B[38;5;241m.\u001B[39msave(\u001B[38;5;124m'\u001B[39m\u001B[38;5;124m./cached_results/nb_of_tweets_anti_elitist.npy\u001B[39m\u001B[38;5;124m'\u001B[39m, nb_of_tweets_anti_elitist) \u001B[38;5;66;03m# Store result in storage\u001B[39;00m\n",
      "File \u001B[0;32m~/Desktop/populist_russians_bots/tweet_analysis.py:140\u001B[0m, in \u001B[0;36mdataset_analysis\u001B[0;34m(dictionary, date_array, category)\u001B[0m\n\u001B[1;32m    137\u001B[0m     file_path \u001B[38;5;241m=\u001B[39m PRE_PROCESSED_DATA_PATH\u001B[38;5;241m.\u001B[39mformat(i)\n\u001B[1;32m    139\u001B[0m     \u001B[38;5;66;03m# Get the number of tweets per day for the current dataset that contain at least one word from the dictionary\u001B[39;00m\n\u001B[0;32m--> 140\u001B[0m     nb \u001B[38;5;241m+\u001B[39m\u001B[38;5;241m=\u001B[39m \u001B[43m_get_number_of_tweets_per_day_with_at_least_one_word__for_one_file\u001B[49m\u001B[43m(\u001B[49m\u001B[43mfile_path\u001B[49m\u001B[43m,\u001B[49m\u001B[43m \u001B[49m\u001B[43mdictionary\u001B[49m\u001B[43m,\u001B[49m\u001B[43m \u001B[49m\u001B[43mdate_array\u001B[49m\u001B[43m,\u001B[49m\n\u001B[1;32m    141\u001B[0m \u001B[43m                                                                             \u001B[49m\u001B[43mcategory\u001B[49m\u001B[38;5;241;43m=\u001B[39;49m\u001B[43mcategory\u001B[49m\u001B[43m)\u001B[49m\n\u001B[1;32m    143\u001B[0m \u001B[38;5;66;03m# Return the cumulative number of tweets per day across all datasets\u001B[39;00m\n\u001B[1;32m    144\u001B[0m \u001B[38;5;28;01mreturn\u001B[39;00m nb\n",
      "File \u001B[0;32m~/Desktop/populist_russians_bots/tweet_analysis.py:91\u001B[0m, in \u001B[0;36m_get_number_of_tweets_per_day_with_at_least_one_word__for_one_file\u001B[0;34m(input_file, dictionary, date_array, category)\u001B[0m\n\u001B[1;32m     88\u001B[0m \u001B[38;5;28;01mdef\u001B[39;00m \u001B[38;5;21mcontains_any_word\u001B[39m(text):\n\u001B[1;32m     89\u001B[0m     \u001B[38;5;28;01mreturn\u001B[39;00m contains_any_substring(text, dictionary)\n\u001B[0;32m---> 91\u001B[0m \u001B[38;5;28;01mreturn\u001B[39;00m \u001B[43m_get_tweet_count_per_day_for_one_file\u001B[49m\u001B[43m(\u001B[49m\u001B[43minput_file\u001B[49m\u001B[43m,\u001B[49m\u001B[43m \u001B[49m\u001B[43mdate_array\u001B[49m\u001B[43m,\u001B[49m\u001B[43m \u001B[49m\u001B[43mcontains_any_word\u001B[49m\u001B[43m,\u001B[49m\u001B[43m \u001B[49m\u001B[43mcategory\u001B[49m\u001B[38;5;241;43m=\u001B[39;49m\u001B[43mcategory\u001B[49m\u001B[43m)\u001B[49m\n",
      "File \u001B[0;32m~/Desktop/populist_russians_bots/tweet_analysis.py:36\u001B[0m, in \u001B[0;36m_get_tweet_count_per_day_for_one_file\u001B[0;34m(input_file, date_array, filter_function, category)\u001B[0m\n\u001B[1;32m     32\u001B[0m \u001B[38;5;66;03m# Process each row in the input file\u001B[39;00m\n\u001B[1;32m     33\u001B[0m \u001B[38;5;28;01mfor\u001B[39;00m row \u001B[38;5;129;01min\u001B[39;00m reader:\n\u001B[1;32m     34\u001B[0m \n\u001B[1;32m     35\u001B[0m     \u001B[38;5;66;03m# If a filter function is provided, use it to determine if the tweet should be counted\u001B[39;00m\n\u001B[0;32m---> 36\u001B[0m     \u001B[38;5;28;01mif\u001B[39;00m filter_function \u001B[38;5;129;01mand\u001B[39;00m \u001B[38;5;129;01mnot\u001B[39;00m \u001B[43mfilter_function\u001B[49m\u001B[43m(\u001B[49m\u001B[43mrow\u001B[49m\u001B[43m[\u001B[49m\u001B[38;5;241;43m1\u001B[39;49m\u001B[43m]\u001B[49m\u001B[43m)\u001B[49m:\n\u001B[1;32m     37\u001B[0m         \u001B[38;5;28;01mcontinue\u001B[39;00m\n\u001B[1;32m     39\u001B[0m     \u001B[38;5;66;03m# check if we need to filter with the type of troll and if yes, check if it is the right category of troll\u001B[39;00m\n",
      "File \u001B[0;32m~/Desktop/populist_russians_bots/tweet_analysis.py:89\u001B[0m, in \u001B[0;36m_get_number_of_tweets_per_day_with_at_least_one_word__for_one_file.<locals>.contains_any_word\u001B[0;34m(text)\u001B[0m\n\u001B[1;32m     88\u001B[0m \u001B[38;5;28;01mdef\u001B[39;00m \u001B[38;5;21mcontains_any_word\u001B[39m(text):\n\u001B[0;32m---> 89\u001B[0m     \u001B[38;5;28;01mreturn\u001B[39;00m \u001B[43mcontains_any_substring\u001B[49m\u001B[43m(\u001B[49m\u001B[43mtext\u001B[49m\u001B[43m,\u001B[49m\u001B[43m \u001B[49m\u001B[43mdictionary\u001B[49m\u001B[43m)\u001B[49m\n",
      "File \u001B[0;32m~/Desktop/populist_russians_bots/tweet_analysis.py:106\u001B[0m, in \u001B[0;36mcontains_any_substring\u001B[0;34m(text, substring_set)\u001B[0m\n\u001B[1;32m    103\u001B[0m \u001B[38;5;66;03m# Iterate over each substring in the set\u001B[39;00m\n\u001B[1;32m    104\u001B[0m \u001B[38;5;28;01mfor\u001B[39;00m substring \u001B[38;5;129;01min\u001B[39;00m substring_set:\n\u001B[1;32m    105\u001B[0m     \u001B[38;5;66;03m# Check if the current substring is present in the text\u001B[39;00m\n\u001B[0;32m--> 106\u001B[0m     \u001B[38;5;28;01mif\u001B[39;00m substring \u001B[38;5;129;01min\u001B[39;00m text:\n\u001B[1;32m    107\u001B[0m         \u001B[38;5;66;03m# Return True if any substring is found\u001B[39;00m\n\u001B[1;32m    108\u001B[0m         \u001B[38;5;28;01mreturn\u001B[39;00m \u001B[38;5;28;01mTrue\u001B[39;00m\n\u001B[1;32m    110\u001B[0m \u001B[38;5;66;03m# If no substrings are found in the text, return False\u001B[39;00m\n",
      "\u001B[0;31mKeyboardInterrupt\u001B[0m: "
     ]
    }
   ],
   "execution_count": 6
  },
  {
   "metadata": {},
   "cell_type": "markdown",
   "source": "Perform the people_centrism analysis \n",
   "id": "88067992386f4a91"
  },
  {
   "metadata": {
    "ExecuteTime": {
     "end_time": "2024-08-11T21:08:11.790728Z",
     "start_time": "2024-08-11T20:57:45.753872Z"
    }
   },
   "cell_type": "code",
   "source": [
    "nb_of_tweets_people_centrism = tweet_analysis.dataset_analysis(people_centrism_dictionary,date_array)\n",
    "np.save('./cached_results/nb_of_tweets_people_centrism.npy', nb_of_tweets_people_centrism)"
   ],
   "id": "35928fd3c1d7f83f",
   "outputs": [
    {
     "name": "stdout",
     "output_type": "stream",
     "text": [
      "processing file 1\n",
      "8.440017700195312e-05\n",
      "processing file 2\n",
      "60.74401068687439\n",
      "processing file 3\n",
      "119.36048793792725\n",
      "processing file 4\n",
      "183.60057997703552\n",
      "processing file 5\n",
      "241.99017453193665\n",
      "processing file 6\n",
      "290.83711409568787\n",
      "processing file 7\n",
      "352.8362989425659\n",
      "processing file 8\n",
      "397.9904148578644\n",
      "processing file 9\n",
      "434.26134753227234\n",
      "processing file 10\n",
      "469.16220331192017\n",
      "processing file 11\n",
      "518.4147465229034\n",
      "processing file 12\n",
      "572.2147982120514\n",
      "processing file 13\n",
      "622.5426344871521\n"
     ]
    }
   ],
   "execution_count": 13
  },
  {
   "metadata": {},
   "cell_type": "markdown",
   "source": "",
   "id": "1e5ec75eea70dc6c"
  },
  {
   "metadata": {},
   "cell_type": "markdown",
   "source": "Perform the sovereignty analysis",
   "id": "72553a115ce545c8"
  },
  {
   "metadata": {
    "ExecuteTime": {
     "end_time": "2024-08-11T21:14:57.863601Z",
     "start_time": "2024-08-11T21:13:26.233159Z"
    }
   },
   "cell_type": "code",
   "source": [
    "nb_of_tweets_sovereignty = tweet_analysis.dataset_analysis(sovereignty_dictionary, date_array)\n",
    "np.save('./cached_results/nb_of_tweets_sovereignty.npy', nb_of_tweets_sovereignty)"
   ],
   "id": "e1d2b358c0475bcf",
   "outputs": [
    {
     "name": "stdout",
     "output_type": "stream",
     "text": [
      "processing file 1\n",
      "0.0002989768981933594\n",
      "processing file 2\n",
      "8.894880056381226\n",
      "processing file 3\n",
      "17.40390396118164\n",
      "processing file 4\n",
      "26.74119734764099\n",
      "processing file 5\n",
      "35.13206362724304\n",
      "processing file 6\n",
      "42.358131408691406\n",
      "processing file 7\n",
      "51.51526498794556\n",
      "processing file 8\n",
      "58.053232192993164\n",
      "processing file 9\n",
      "63.371689796447754\n",
      "processing file 10\n",
      "68.62022280693054\n",
      "processing file 11\n",
      "75.86168646812439\n",
      "processing file 12\n",
      "83.84404349327087\n",
      "processing file 13\n",
      "91.11701703071594\n"
     ]
    }
   ],
   "execution_count": 14
  },
  {
   "metadata": {},
   "cell_type": "markdown",
   "source": "Perform the analysis for the Right Trolls ",
   "id": "94545a4251cbf835"
  },
  {
   "metadata": {
    "ExecuteTime": {
     "end_time": "2024-08-12T10:44:04.608339Z",
     "start_time": "2024-08-12T09:47:59.673964Z"
    }
   },
   "cell_type": "code",
   "source": [
    "nb_tweets_right_anti_elitist = tweet_analysis.dataset_analysis(anti_elitism_dictionary, date_array, \"RightTroll\")\n",
    "nb_tweets_right_people_centrism = tweet_analysis.dataset_analysis(people_centrism_dictionary, date_array, \"RightTroll\")\n",
    "nb_tweets_right_sovereignty = tweet_analysis.dataset_analysis(sovereignty_dictionary, date_array, \"RightTroll\")\n",
    "np.save(\"./cached_results/nb_tweets_right_anti_elitist.npy\", nb_tweets_right_anti_elitist)\n",
    "np.save(\"./cached_results/nb_tweets_right_people_centrism.npy\", nb_tweets_right_people_centrism)\n",
    "np.save(\"./cached_results/nb_tweets_right_sovereignty.npy\", nb_tweets_right_sovereignty)"
   ],
   "id": "151d6876f59b93bd",
   "outputs": [
    {
     "name": "stdout",
     "output_type": "stream",
     "text": [
      "processing file 1\n",
      "0.0004076957702636719\n",
      "processing file 2\n",
      "215.3645522594452\n",
      "processing file 3\n",
      "411.87449622154236\n",
      "processing file 4\n",
      "635.8055195808411\n",
      "processing file 5\n",
      "844.0977220535278\n",
      "processing file 6\n",
      "1023.1581933498383\n",
      "processing file 7\n",
      "1247.3113045692444\n",
      "processing file 8\n",
      "1402.2921578884125\n",
      "processing file 9\n",
      "1526.9980773925781\n",
      "processing file 10\n",
      "1645.093108177185\n",
      "processing file 11\n",
      "1827.134846687317\n",
      "processing file 12\n",
      "2019.8090846538544\n",
      "processing file 13\n",
      "2190.700097799301\n",
      "processing file 1\n",
      "6.532669067382812e-05\n",
      "processing file 2\n",
      "97.64743971824646\n",
      "processing file 3\n",
      "193.1334023475647\n",
      "processing file 4\n",
      "296.4744896888733\n",
      "processing file 5\n",
      "391.2334864139557\n",
      "processing file 6\n",
      "469.1361665725708\n",
      "processing file 7\n",
      "567.8150594234467\n",
      "processing file 8\n",
      "641.1044006347656\n",
      "processing file 9\n",
      "700.5750844478607\n",
      "processing file 10\n",
      "757.2609882354736\n",
      "processing file 11\n",
      "837.755576133728\n",
      "processing file 12\n",
      "925.376757144928\n",
      "processing file 13\n",
      "1007.297886133194\n",
      "processing file 1\n",
      "8.0108642578125e-05\n",
      "processing file 2\n",
      "14.356534004211426\n",
      "processing file 3\n",
      "28.220550298690796\n",
      "processing file 4\n",
      "43.450265407562256\n",
      "processing file 5\n",
      "57.16951370239258\n",
      "processing file 6\n",
      "68.94826579093933\n",
      "processing file 7\n",
      "83.76408791542053\n",
      "processing file 8\n",
      "94.44699192047119\n",
      "processing file 9\n",
      "103.10448455810547\n",
      "processing file 10\n",
      "111.52823066711426\n",
      "processing file 11\n",
      "123.30139946937561\n",
      "processing file 12\n",
      "136.1530647277832\n",
      "processing file 13\n",
      "148.11604642868042\n"
     ]
    }
   ],
   "execution_count": 6
  },
  {
   "metadata": {},
   "cell_type": "markdown",
   "source": "Perform the analysis for the Left Trolls ",
   "id": "20bb33cc764caa65"
  },
  {
   "metadata": {
    "ExecuteTime": {
     "end_time": "2024-08-12T11:53:42.654338Z",
     "start_time": "2024-08-12T11:18:25.465955Z"
    }
   },
   "cell_type": "code",
   "source": [
    "nb_tweets_left_anti_elitist = tweet_analysis.dataset_analysis(anti_elitism_dictionary, date_array, \"LeftTroll\")\n",
    "nb_tweets_left_people_centrism = tweet_analysis.dataset_analysis(people_centrism_dictionary, date_array, \"LeftTroll\")\n",
    "nb_tweets_left_sovereignty = tweet_analysis.dataset_analysis(sovereignty_dictionary, date_array, \"LeftTroll\")\n",
    "np.save(\"./cached_results/nb_tweets_left_anti_elitist.npy\", nb_tweets_left_anti_elitist)\n",
    "np.save(\"./cached_results/nb_tweets_left_people_centrism.npy\", nb_tweets_left_people_centrism)\n",
    "np.save(\"./cached_results/nb_tweets_left_sovereignty.npy\", nb_tweets_left_sovereignty)"
   ],
   "id": "144236c2c062c006",
   "outputs": [
    {
     "name": "stdout",
     "output_type": "stream",
     "text": [
      "processing file 1\n",
      "9.465217590332031e-05\n",
      "processing file 2\n",
      "134.24425339698792\n",
      "processing file 3\n",
      "266.6309189796448\n",
      "processing file 4\n",
      "411.54574489593506\n",
      "processing file 5\n",
      "541.5891797542572\n",
      "processing file 6\n",
      "655.1624433994293\n",
      "processing file 7\n",
      "800.6519958972931\n",
      "processing file 8\n",
      "902.3444714546204\n",
      "processing file 9\n",
      "981.052775144577\n",
      "processing file 10\n",
      "1057.9173364639282\n",
      "processing file 11\n",
      "1168.429649591446\n",
      "processing file 12\n",
      "1287.0131826400757\n",
      "processing file 13\n",
      "1396.4761803150177\n",
      "processing file 1\n",
      "5.245208740234375e-05\n",
      "processing file 2\n",
      "60.504013776779175\n",
      "processing file 3\n",
      "118.68164873123169\n",
      "processing file 4\n",
      "182.0705235004425\n",
      "processing file 5\n",
      "239.95427536964417\n",
      "processing file 6\n",
      "288.56716203689575\n",
      "processing file 7\n",
      "350.1775426864624\n",
      "processing file 8\n",
      "394.83086609840393\n",
      "processing file 9\n",
      "431.0025939941406\n",
      "processing file 10\n",
      "465.645920753479\n",
      "processing file 11\n",
      "514.6358647346497\n",
      "processing file 12\n",
      "568.108395576477\n",
      "processing file 13\n",
      "618.1072518825531\n",
      "processing file 1\n",
      "7.224082946777344e-05\n",
      "processing file 2\n",
      "8.780392408370972\n",
      "processing file 3\n",
      "17.34524369239807\n",
      "processing file 4\n",
      "26.695703744888306\n",
      "processing file 5\n",
      "35.0946991443634\n",
      "processing file 6\n",
      "42.318650245666504\n",
      "processing file 7\n",
      "51.482874393463135\n",
      "processing file 8\n",
      "58.05401611328125\n",
      "processing file 9\n",
      "63.312458515167236\n",
      "processing file 10\n",
      "68.45958042144775\n",
      "processing file 11\n",
      "75.72414588928223\n",
      "processing file 12\n",
      "83.58808875083923\n",
      "processing file 13\n",
      "90.84252333641052\n"
     ]
    }
   ],
   "execution_count": 22
  },
  {
   "metadata": {},
   "cell_type": "markdown",
   "source": "Perform the analysis for the News Feed",
   "id": "61f3ec9c7f6beabd"
  },
  {
   "metadata": {
    "ExecuteTime": {
     "end_time": "2024-08-12T12:40:24.348998Z",
     "start_time": "2024-08-12T12:05:34.296348Z"
    }
   },
   "cell_type": "code",
   "source": [
    "nb_tweets_news_anti_elitist = tweet_analysis.dataset_analysis(anti_elitism_dictionary, date_array, \"NewsFeed\")\n",
    "nb_tweets_news_people_centrism = tweet_analysis.dataset_analysis(people_centrism_dictionary, date_array, \"NewsFeed\")\n",
    "nb_tweets_news_sovereignty = tweet_analysis.dataset_analysis(sovereignty_dictionary, date_array, \"NewsFeed\")\n",
    "np.save(\"./cached_results/nb_tweets_news_anti_elitist.npy\", nb_tweets_news_anti_elitist)\n",
    "np.save(\"./cached_results/nb_tweets_news_people_centrism.npy\", nb_tweets_news_people_centrism)\n",
    "np.save(\"./cached_results/nb_tweets_news_sovereignty.npy\", nb_tweets_news_sovereignty)"
   ],
   "id": "20a96c17e162666",
   "outputs": [
    {
     "name": "stdout",
     "output_type": "stream",
     "text": [
      "processing file 1\n",
      "0.00010418891906738281\n",
      "processing file 2\n",
      "133.19934749603271\n",
      "processing file 3\n",
      "260.20931005477905\n",
      "processing file 4\n",
      "399.04048013687134\n",
      "processing file 5\n",
      "524.3051209449768\n",
      "processing file 6\n",
      "632.8882067203522\n",
      "processing file 7\n",
      "771.5159060955048\n",
      "processing file 8\n",
      "870.1905505657196\n",
      "processing file 9\n",
      "948.9955327510834\n",
      "processing file 10\n",
      "1025.771416425705\n",
      "processing file 11\n",
      "1136.3099193572998\n",
      "processing file 12\n",
      "1255.0064461231232\n",
      "processing file 13\n",
      "1364.184895992279\n",
      "processing file 1\n",
      "5.7697296142578125e-05\n",
      "processing file 2\n",
      "60.652273416519165\n",
      "processing file 3\n",
      "118.96420645713806\n",
      "processing file 4\n",
      "182.79125666618347\n",
      "processing file 5\n",
      "240.41578030586243\n",
      "processing file 6\n",
      "289.5293548107147\n",
      "processing file 7\n",
      "351.5306398868561\n",
      "processing file 8\n",
      "396.80396461486816\n",
      "processing file 9\n",
      "433.1488995552063\n",
      "processing file 10\n",
      "468.0145881175995\n",
      "processing file 11\n",
      "517.9637641906738\n",
      "processing file 12\n",
      "572.368362903595\n",
      "processing file 13\n",
      "622.8984622955322\n",
      "processing file 1\n",
      "5.435943603515625e-05\n",
      "processing file 2\n",
      "8.803309917449951\n",
      "processing file 3\n",
      "17.33306074142456\n",
      "processing file 4\n",
      "26.69747805595398\n",
      "processing file 5\n",
      "35.131327390670776\n",
      "processing file 6\n",
      "42.390910387039185\n",
      "processing file 7\n",
      "51.54795980453491\n",
      "processing file 8\n",
      "58.13925385475159\n",
      "processing file 9\n",
      "63.42682123184204\n",
      "processing file 10\n",
      "68.6150107383728\n",
      "processing file 11\n",
      "75.88618755340576\n",
      "processing file 12\n",
      "83.87419581413269\n",
      "processing file 13\n",
      "91.20634269714355\n"
     ]
    }
   ],
   "execution_count": 23
  },
  {
   "metadata": {},
   "cell_type": "markdown",
   "source": "Perform the analysis for the hashtag gamer",
   "id": "2880cf326c41d46a"
  },
  {
   "metadata": {
    "ExecuteTime": {
     "end_time": "2024-08-12T13:15:32.730985Z",
     "start_time": "2024-08-12T12:40:24.349960Z"
    }
   },
   "cell_type": "code",
   "source": [
    "nb_tweets_gamer_anti_elitist = tweet_analysis.dataset_analysis(anti_elitism_dictionary, date_array, \"HashtagGamer\")\n",
    "nb_tweets_gamer_people_centrism = tweet_analysis.dataset_analysis(people_centrism_dictionary, date_array, \"HashtagGamer\")\n",
    "nb_tweets_gamer_sovereignty = tweet_analysis.dataset_analysis(sovereignty_dictionary, date_array, \"HashtagGamer\")\n",
    "np.save(\"./cached_results/nb_tweets_gamer_anti_elitist.npy\", nb_tweets_gamer_anti_elitist)\n",
    "np.save(\"./cached_results/nb_tweets_gamer_people_centrism.npy\", nb_tweets_gamer_people_centrism)\n",
    "np.save(\"./cached_results/nb_tweets_gamer_sovereignty.npy\", nb_tweets_gamer_sovereignty)"
   ],
   "id": "b5f3b6484e126034",
   "outputs": [
    {
     "name": "stdout",
     "output_type": "stream",
     "text": [
      "processing file 1\n",
      "1.9550323486328125e-05\n",
      "processing file 2\n",
      "134.25631260871887\n",
      "processing file 3\n",
      "263.1615216732025\n",
      "processing file 4\n",
      "403.7081413269043\n",
      "processing file 5\n",
      "529.2257747650146\n",
      "processing file 6\n",
      "638.1393418312073\n",
      "processing file 7\n",
      "776.9668819904327\n",
      "processing file 8\n",
      "876.2808842658997\n",
      "processing file 9\n",
      "956.2740998268127\n",
      "processing file 10\n",
      "1034.53799700737\n",
      "processing file 11\n",
      "1147.2004261016846\n",
      "processing file 12\n",
      "1266.928723335266\n",
      "processing file 13\n",
      "1378.1075143814087\n",
      "processing file 1\n",
      "5.745887756347656e-05\n",
      "processing file 2\n",
      "61.42268705368042\n",
      "processing file 3\n",
      "120.0383939743042\n",
      "processing file 4\n",
      "185.4759635925293\n",
      "processing file 5\n",
      "243.81869053840637\n",
      "processing file 6\n",
      "292.8523919582367\n",
      "processing file 7\n",
      "355.4913237094879\n",
      "processing file 8\n",
      "400.99363231658936\n",
      "processing file 9\n",
      "437.710040807724\n",
      "processing file 10\n",
      "473.0845150947571\n",
      "processing file 11\n",
      "522.5990090370178\n",
      "processing file 12\n",
      "576.4645278453827\n",
      "processing file 13\n",
      "626.9256267547607\n",
      "processing file 1\n",
      "4.6253204345703125e-05\n",
      "processing file 2\n",
      "8.986125469207764\n",
      "processing file 3\n",
      "17.580679655075073\n",
      "processing file 4\n",
      "26.926767349243164\n",
      "processing file 5\n",
      "35.26093316078186\n",
      "processing file 6\n",
      "42.569490909576416\n",
      "processing file 7\n",
      "51.81784391403198\n",
      "processing file 8\n",
      "58.37314796447754\n",
      "processing file 9\n",
      "63.76048016548157\n",
      "processing file 10\n",
      "68.93776416778564\n",
      "processing file 11\n",
      "76.23797225952148\n",
      "processing file 12\n",
      "84.13570284843445\n",
      "processing file 13\n",
      "91.52073645591736\n"
     ]
    }
   ],
   "execution_count": 24
  },
  {
   "metadata": {},
   "cell_type": "markdown",
   "source": "Perform the analysis for the Fearmonger",
   "id": "ea9ce82bd420bca4"
  },
  {
   "metadata": {
    "ExecuteTime": {
     "end_time": "2024-08-12T13:50:33.263636Z",
     "start_time": "2024-08-12T13:15:32.731740Z"
    }
   },
   "cell_type": "code",
   "source": [
    "nb_tweets_fear_anti_elitist = tweet_analysis.dataset_analysis(anti_elitism_dictionary, date_array, \"Fearmonger\")\n",
    "nb_tweets_fear_people_centrism = tweet_analysis.dataset_analysis(people_centrism_dictionary, date_array, \"Fearmonger\")\n",
    "nb_tweets_fear_sovereignty = tweet_analysis.dataset_analysis(sovereignty_dictionary, date_array, \"Fearmonger\")\n",
    "np.save(\"./cached_results/nb_tweets_fear_anti_elitist.npy\", nb_tweets_fear_anti_elitist)\n",
    "np.save(\"./cached_results/nb_tweets_fear_people_centrism.npy\", nb_tweets_fear_people_centrism)\n",
    "np.save(\"./cached_results/nb_tweets_fear_sovereignty.npy\", nb_tweets_fear_sovereignty)"
   ],
   "id": "c9173da22dbb552e",
   "outputs": [
    {
     "name": "stdout",
     "output_type": "stream",
     "text": [
      "processing file 1\n",
      "2.7418136596679688e-05\n",
      "processing file 2\n",
      "133.7753300666809\n",
      "processing file 3\n",
      "261.3743932247162\n",
      "processing file 4\n",
      "400.54706025123596\n",
      "processing file 5\n",
      "526.3060903549194\n",
      "processing file 6\n",
      "634.780927658081\n",
      "processing file 7\n",
      "774.4851589202881\n",
      "processing file 8\n",
      "874.1925630569458\n",
      "processing file 9\n",
      "953.1922750473022\n",
      "processing file 10\n",
      "1031.067664384842\n",
      "processing file 11\n",
      "1141.5639209747314\n",
      "processing file 12\n",
      "1260.0745558738708\n",
      "processing file 13\n",
      "1373.3502359390259\n",
      "processing file 1\n",
      "5.1975250244140625e-05\n",
      "processing file 2\n",
      "62.423741817474365\n",
      "processing file 3\n",
      "122.51149773597717\n",
      "processing file 4\n",
      "186.70643615722656\n",
      "processing file 5\n",
      "244.73098993301392\n",
      "processing file 6\n",
      "293.5311801433563\n",
      "processing file 7\n",
      "355.41470217704773\n",
      "processing file 8\n",
      "400.4218168258667\n",
      "processing file 9\n",
      "436.67933654785156\n",
      "processing file 10\n",
      "471.4764440059662\n",
      "processing file 11\n",
      "520.593864440918\n",
      "processing file 12\n",
      "574.2718586921692\n",
      "processing file 13\n",
      "624.4548637866974\n",
      "processing file 1\n",
      "5.984306335449219e-05\n",
      "processing file 2\n",
      "8.77813458442688\n",
      "processing file 3\n",
      "17.291610956192017\n",
      "processing file 4\n",
      "26.675610542297363\n",
      "processing file 5\n",
      "35.038496017456055\n",
      "processing file 6\n",
      "42.272995948791504\n",
      "processing file 7\n",
      "51.40287709236145\n",
      "processing file 8\n",
      "57.968384981155396\n",
      "processing file 9\n",
      "63.26701617240906\n",
      "processing file 10\n",
      "68.45853543281555\n",
      "processing file 11\n",
      "75.69090533256531\n",
      "processing file 12\n",
      "83.58162426948547\n",
      "processing file 13\n",
      "90.90378093719482\n"
     ]
    }
   ],
   "execution_count": 25
  },
  {
   "metadata": {},
   "cell_type": "markdown",
   "source": "",
   "id": "acba04e1e4097c48"
  },
  {
   "metadata": {},
   "cell_type": "markdown",
   "source": "# Plot results ",
   "id": "77bc6d1a090cea7b"
  },
  {
   "metadata": {},
   "cell_type": "markdown",
   "source": "Global anti-elitist ",
   "id": "cd9748eb2a151431"
  },
  {
   "metadata": {
    "ExecuteTime": {
     "end_time": "2024-08-12T11:16:28.752264Z",
     "start_time": "2024-08-12T11:16:28.731831Z"
    }
   },
   "cell_type": "code",
   "source": [
    "%matplotlib qt\n",
    "# %matplotlib inline \n",
    "nb_of_tweets_anti_elitist = np.load('./cached_results/nb_of_tweets_anti_elitist.npy')\n",
    "percentage_anti_elitist = percentage.percentage_of_tweets(nb_of_tweets_anti_elitist, nb_of_tweets_per_day)\n",
    "plot.plot_result(date_array, percentage_anti_elitist, START_DATE, END_DATE)\n",
    "mean_percentage = np.mean(percentage_anti_elitist)\n",
    "\n",
    "print(\"Mean percentage: \", mean_percentage)"
   ],
   "id": "a516c44c82cfe715",
   "outputs": [
    {
     "name": "stdout",
     "output_type": "stream",
     "text": [
      "Mean percentage:  8.677374301675977\n"
     ]
    }
   ],
   "execution_count": 21
  },
  {
   "metadata": {},
   "cell_type": "markdown",
   "source": "Global people centrism\n",
   "id": "293379938592526c"
  },
  {
   "metadata": {},
   "cell_type": "code",
   "outputs": [],
   "execution_count": null,
   "source": [
    "%matplotlib qt\n",
    "# %matplotlib inline \n",
    "nb_of_tweets_people_centrism = np.load('./cached_results/nb_of_tweets_people_centrism.npy')\n",
    "percentage_people_centrism = percentage.percentage_of_tweets(nb_of_tweets_people_centrism, nb_of_tweets_per_day)\n",
    "plot.plot_result(date_array, percentage_people_centrism, START_DATE, END_DATE)\n",
    "mean_percentage = np.mean(percentage_people_centrism)\n",
    "\n",
    "print(\"Mean percentage: \", mean_percentage)"
   ],
   "id": "22214581a5203b02"
  },
  {
   "metadata": {},
   "cell_type": "markdown",
   "source": "Global sovereignty\n",
   "id": "5d7668cc0744142b"
  },
  {
   "metadata": {},
   "cell_type": "code",
   "outputs": [],
   "execution_count": null,
   "source": "",
   "id": "a774023ed0d62594"
  }
 ],
 "metadata": {
  "kernelspec": {
   "display_name": "Python 3",
   "language": "python",
   "name": "python3"
  },
  "language_info": {
   "codemirror_mode": {
    "name": "ipython",
    "version": 3
   },
   "file_extension": ".py",
   "mimetype": "text/x-python",
   "name": "python",
   "nbconvert_exporter": "python",
   "pygments_lexer": "ipython3",
   "version": "3.11.7"
  }
 },
 "nbformat": 4,
 "nbformat_minor": 5
}
