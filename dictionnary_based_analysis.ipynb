{
 "cells": [
  {
   "metadata": {},
   "cell_type": "markdown",
   "source": "Importation of packages",
   "id": "4b8e8d93ae471610"
  },
  {
   "metadata": {
    "ExecuteTime": {
     "end_time": "2024-08-09T13:27:06.595780Z",
     "start_time": "2024-08-09T13:27:06.330865Z"
    }
   },
   "cell_type": "code",
   "source": [
    "from filter_data import * # class containing filter methods \n",
    "from date_handling import * # class containing date related methods"
   ],
   "id": "80f5fcd342a07907",
   "outputs": [],
   "execution_count": 1
  },
  {
   "metadata": {},
   "cell_type": "markdown",
   "source": "Definition of constants \n",
   "id": "ddfc0e88536dab11"
  },
  {
   "metadata": {
    "ExecuteTime": {
     "end_time": "2024-08-09T13:27:09.476724Z",
     "start_time": "2024-08-09T13:27:09.473997Z"
    }
   },
   "cell_type": "code",
   "source": [
    "START_DATE = np.datetime64('2014-07-01') # Date of the first published tweet in English \n",
    "END_DATE = np.datetime64('2018-06-01') # Date of the last published tweet in English \n",
    "\n",
    "RAW_DATA_PATH = \"./data/original_data/IRAhandle_tweets_{}.csv\"\n",
    "PRE_PROCESSED_DATA_PATH = \"./data/filtered_data/IRAhandle_tweets_{}.csv\"\n"
   ],
   "id": "ec0614fa7500e344",
   "outputs": [],
   "execution_count": 2
  },
  {
   "metadata": {},
   "cell_type": "markdown",
   "source": [
    "Filter the data : \n",
    "- Keep only tweets written in english \n",
    "- Remove links in the tweets\n",
    "- Remove columns that we do not need \n",
    "- Reformat dates"
   ],
   "id": "c6c43b8cc99412e2"
  },
  {
   "metadata": {
    "ExecuteTime": {
     "end_time": "2024-08-09T13:27:56.157471Z",
     "start_time": "2024-08-09T13:27:12.544010Z"
    }
   },
   "cell_type": "code",
   "source": [
    "# Define the set of column indices to keep\n",
    "COLUMN_INDICES = {1, 2, 5, 13}\n",
    "\n",
    "# Call the function with the input file name and column indices\n",
    "for i in range(1, 14): \n",
    "    input_path= RAW_DATA_PATH.format(i)\n",
    "    output_path= PRE_PROCESSED_DATA_PATH.format(i)\n",
    "    filter_csv(input_path, output_path, COLUMN_INDICES, 4, \"English\") # Keep only tweets in english \n",
    "    extract_date_columns(output_path, output_path)\n",
    "    remove_links(output_path, output_path)\n",
    "    convert_to_lowercase(output_path, output_path)"
   ],
   "id": "2135a4bb255d1789",
   "outputs": [],
   "execution_count": 3
  },
  {
   "metadata": {},
   "cell_type": "markdown",
   "source": "",
   "id": "5c572ba69b498106"
  }
 ],
 "metadata": {
  "kernelspec": {
   "display_name": "Python 3",
   "language": "python",
   "name": "python3"
  },
  "language_info": {
   "codemirror_mode": {
    "name": "ipython",
    "version": 2
   },
   "file_extension": ".py",
   "mimetype": "text/x-python",
   "name": "python",
   "nbconvert_exporter": "python",
   "pygments_lexer": "ipython2",
   "version": "2.7.6"
  }
 },
 "nbformat": 4,
 "nbformat_minor": 5
}
